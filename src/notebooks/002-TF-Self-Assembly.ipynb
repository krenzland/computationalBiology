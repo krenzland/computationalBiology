{
 "cells": [
  {
   "cell_type": "code",
   "execution_count": 61,
   "metadata": {
    "collapsed": true
   },
   "outputs": [],
   "source": [
    "%matplotlib inline\n",
    "import numpy as np\n",
    "import matplotlib.pyplot as plt\n",
    "\n",
    "import scipy.optimize as opt\n",
    "from scipy.constants import Boltzmann\n",
    "\n",
    "import seaborn as sns\n",
    "\n",
    "sns.set_style('white')\n",
    "sns.set_palette(sns.color_palette('viridis'))\n",
    "\n",
    "def figsize(scale=1.0):\n",
    "    latex_width = 418.25555 #pt\n",
    "    fig_width = latex_width/72.27 # inches\n",
    "    fig_height = fig_width * (np.sqrt(5)-1.0)/2.0\n",
    "    return [fig_width*scale, fig_height*scale]\n",
    "\n",
    "params = {\n",
    "    'font.size': 11,\n",
    "    'font.family': 'serif',\n",
    "    'font.serif': [],\n",
    "    'axes.labelsize': 11,\n",
    "    'legend.fontsize': 11,\n",
    "    'xtick.labelsize': 8,\n",
    "    'ytick.labelsize': 8,\n",
    "    'figure.figsize': figsize(scale=1.0),\n",
    "    'text.usetex': True,\n",
    "    'pgf.texsystem': 'pdflatex',\n",
    "    'text.latex.unicode': True\n",
    "    }\n",
    "plt.rcParams.update(params)\n",
    "plt.rcParams['text.latex.preamble'].extend([r'\\usepackage{amsmath}'])"
   ]
  },
  {
   "cell_type": "code",
   "execution_count": 54,
   "metadata": {
    "collapsed": true
   },
   "outputs": [],
   "source": [
    "def F(x_1, E_0c2, bT):\n",
    "    # TODO: Set constants\n",
    "    boltzmann = Boltzmann\n",
    "    temperature = bT/boltzmann #294.15 # K (21 C)\n",
    "    \n",
    "    \n",
    "    x_2 = 1.0 - x_1\n",
    "    assert((x_1 + x_2) == 1.0)\n",
    "        \n",
    "    return boltzmann * temperature * (x_1 * np.log(x_1) + x_2 * np.log(x_2)) - \\\n",
    "        (E_0c2 * (x_1**2 + x_2**2))"
   ]
  },
  {
   "cell_type": "code",
   "execution_count": null,
   "metadata": {
    "collapsed": true
   },
   "outputs": [],
   "source": []
  },
  {
   "cell_type": "code",
   "execution_count": 74,
   "metadata": {},
   "outputs": [
    {
     "name": "stderr",
     "output_type": "stream",
     "text": [
      "/home/lukas/bin/anaconda3/lib/python3.6/site-packages/scipy/optimize/_minimize.py:643: RuntimeWarning: Method 'bounded' does not support relative tolerance in x; defaulting to absolute tolerance.\n",
      "  \"defaulting to absolute tolerance.\", RuntimeWarning)\n"
     ]
    },
    {
     "data": {
      "image/png": "[encoded data removed]",
      "text/plain": [
       "<matplotlib.figure.Figure at 0x7feebdd3fe10>"
      ]
     },
     "metadata": {},
     "output_type": "display_data"
    }
   ],
   "source": [
    "def find_mins(ratio, verbose=False):\n",
    "    kB = 294.15 * Boltzmann\n",
    "    E0c2 = kB/ratio\n",
    "    def to_opt(x_1):\n",
    "        #x_1 = 0.5\n",
    "        x_2 = 1.0 - x_1\n",
    "\n",
    "        E_0 = 0.9 * 10**(-23)\n",
    "        return F(x_1,E0c2, 294.15*Boltzmann)    \n",
    "    min1 = opt.minimize_scalar(to_opt, bounds=(10e-7, 0.5),method='bounded', tol=10e-10)\n",
    "    min2 =  opt.minimize_scalar(to_opt, bounds=(0.5, 1.0-10e-7),method='bounded',tol=10e-10)\n",
    "    \n",
    "    min_diff = np.abs(min1.fun - min2.fun)\n",
    "    assert(min_diff <= 10e-10)\n",
    "    \n",
    "    #opt.minimize(to_opt, bounds=[(10e-7, 1.0-10e-7)], x0=[1000], _pgtol=10e-10)\n",
    "    if verbose:\n",
    "        print(min1, '\\n', min2)\n",
    "    return min1.x, min2.x\n",
    "\n",
    "x = np.arange(1.5, 0.1, -0.01)\n",
    "y = [find_mins(x) for x in x]\n",
    "y1, y2 = zip(*y)\n",
    "fig, ax = plt.subplots(figsize=(8*np.sqrt(2),8))\n",
    "ax.plot(x,y1, label='min1')\n",
    "ax.plot(x,y2, label='min2')\n",
    "ax.set_ylabel('Position of minima')\n",
    "ax.set_xlabel('$(E_0 c^2)/(k_b T)$')\n",
    "ax.axvline(1.0, linestyle='dotted', c='black')\n",
    "ax.invert_xaxis()\n",
    "ax.set_xbound(1.5, 0.2)\n",
    "ax.set_ybound(0.0, 1.0)\n",
    "ax.legend()\n",
    "sns.despine(fig)\n",
    "fig.savefig('position_of_minima.png', bbox_inches='tight', transparent=True)"
   ]
  },
  {
   "cell_type": "code",
   "execution_count": 56,
   "metadata": {},
   "outputs": [
    {
     "name": "stdout",
     "output_type": "stream",
     "text": [
      "     fun: -4.0611755148156172e-20\n",
      " message: 'Solution found.'\n",
      "    nfev: 43\n",
      "  status: 0\n",
      " success: True\n",
      "       x: 1.0005012707797992e-06 \n",
      "      fun: -4.0611754555699189e-20\n",
      " message: 'Solution found.'\n",
      "    nfev: 35\n",
      "  status: 0\n",
      " success: True\n",
      "       x: 0.99999897595638976\n"
     ]
    },
    {
     "name": "stderr",
     "output_type": "stream",
     "text": [
      "/home/lukas/bin/anaconda3/lib/python3.6/site-packages/scipy/optimize/_minimize.py:643: RuntimeWarning: Method 'bounded' does not support relative tolerance in x; defaulting to absolute tolerance.\n",
      "  \"defaulting to absolute tolerance.\", RuntimeWarning)\n"
     ]
    },
    {
     "data": {
      "text/plain": [
       "(1.0005012707797992e-06, 0.99999897595638976)"
      ]
     },
     "execution_count": 56,
     "metadata": {},
     "output_type": "execute_result"
    }
   ],
   "source": [
    "find_mins(0.1, True)"
   ]
  },
  {
   "cell_type": "code",
   "execution_count": 57,
   "metadata": {},
   "outputs": [],
   "source": [
    "# Just as a sanity check, is unused.\n",
    "def find_num_of_mins(E0, c, eps=10e-4, verbose=True):\n",
    "    E0c2 = E0 * c**2\n",
    "    def to_opt(x_1):\n",
    "        #x_1 = 0.5\n",
    "        x_2 = 1.0 - x_1\n",
    "\n",
    "        E_0 = 0.9 * 10**(-23)\n",
    "        return F(x_1,E0c2, 294.15*Boltzmann)    \n",
    "    min1 = opt.minimize_scalar(to_opt, bounds=(10e-7, 0.5),method='bounded', tol=10e-10)\n",
    "    min2 =  opt.minimize_scalar(to_opt, bounds=(0.5, 1.0-10e-7),method='bounded',tol=10e-10)\n",
    "            \n",
    "    if verbose:\n",
    "        print(min1, '\\n', min2)\n",
    "            \n",
    "    min_diff = np.abs(min1.fun - min2.fun)\n",
    "    assert(min_diff <= 10e-7)\n",
    "    \n",
    "    x_diff = np.abs(min1.x - min2.x)\n",
    "    if (x_diff > eps):\n",
    "        return 2\n",
    "    else:\n",
    "        return 1\n",
    "\n",
    "    return min1.x, min2.x"
   ]
  },
  {
   "cell_type": "code",
   "execution_count": null,
   "metadata": {},
   "outputs": [],
   "source": []
  },
  {
   "cell_type": "code",
   "execution_count": 80,
   "metadata": {},
   "outputs": [
    {
     "data": {
      "image/png": "[encoded data removed]",
      "text/plain": [
       "<matplotlib.figure.Figure at 0x7feebe371048>"
      ]
     },
     "metadata": {},
     "output_type": "display_data"
    }
   ],
   "source": [
    "kB = 294.15 * Boltzmann\n",
    "E0c2_max = kB/1.5\n",
    "E0c2_min = kB/0.5\n",
    "\n",
    "c_min = 0.01 / 100\n",
    "c_max = 1 / 100\n",
    "\n",
    "def find_bifurcation_c(E0):\n",
    "    # E0c2 should be equal to kB\n",
    "    kB = 294.15 * Boltzmann\n",
    "    return np.sqrt(kB/E0)\n",
    "\n",
    "#E0_grid = np.linspace(E0c2_min/(c_max**2), E0c2_max/(c_min**2), 100)\n",
    "x = np.linspace(1, 9, 100)\n",
    "E0_grid = x * kB\n",
    "y = find_bifurcation_c(E0_grid)\n",
    "fig, ax = plt.subplots(figsize=(8*np.sqrt(2),8))\n",
    "ax.set_yscale('log')\n",
    "ax.set_xlim(1, 9)\n",
    "ax.set_ylim(y.min(), y.max())\n",
    "ax.set_xlabel('$E_0 = x \\cdot k_B T$')\n",
    "ax.set_ylabel('$c$')\n",
    "ax.plot(x,y, linewidth=5, c='black')\n",
    "ax.fill_between(x,0, y, label='One minimum', color='green')\n",
    "ax.fill_between(x,y, 1, label='Two minima', color='red')\n",
    "legend = ax.legend(frameon=True)\n",
    "#legend.get_frame().set_color('black')\n",
    "sns.despine(fig)\n",
    "fig.savefig('phase_plot.png', transparent=True, bbox_inches='tight')"
   ]
  },
  {
   "cell_type": "code",
   "execution_count": 337,
   "metadata": {},
   "outputs": [
    {
     "data": {
      "text/plain": [
       "array([  8.12235524e-17,   3.01549959e-14,   6.02287683e-14,\n",
       "         9.03025406e-14,   1.20376313e-13,   1.50450085e-13,\n",
       "         1.80523858e-13,   2.10597630e-13,   2.40671402e-13,\n",
       "         2.70745175e-13])"
      ]
     },
     "execution_count": 337,
     "metadata": {},
     "output_type": "execute_result"
    }
   ],
   "source": [
    "zz"
   ]
  },
  {
   "cell_type": "code",
   "execution_count": null,
   "metadata": {
    "collapsed": true
   },
   "outputs": [],
   "source": []
  },
  {
   "cell_type": "code",
   "execution_count": null,
   "metadata": {
    "collapsed": true
   },
   "outputs": [],
   "source": [
    "fig, ax = plt.subplots(figsize=(8*np.sqrt(2),8))\n",
    "ax.set_yscale('log')\n",
    "ax.set_xscale('log')\n",
    "x = c_grid\n",
    "y = E0_grid\n",
    "x, y= np.meshgrid(x,y)\n",
    "ax.scatter(x,y)\n",
    "ax.set_xbound(c_grid.min(), c_grid.max())\n",
    "ax.set_ybound(E0_grid.min(), E0_grid.max())\n"
   ]
  },
  {
   "cell_type": "code",
   "execution_count": null,
   "metadata": {
    "collapsed": true
   },
   "outputs": [],
   "source": []
  }
 ],
 "metadata": {
  "kernelspec": {
   "display_name": "Python 3",
   "language": "python",
   "name": "python3"
  },
  "language_info": {
   "codemirror_mode": {
    "name": "ipython",
    "version": 3
   },
   "file_extension": ".py",
   "mimetype": "text/x-python",
   "name": "python",
   "nbconvert_exporter": "python",
   "pygments_lexer": "ipython3",
   "version": "3.6.1"
  }
 },
 "nbformat": 4,
 "nbformat_minor": 2
}
