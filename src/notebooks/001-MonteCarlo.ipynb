{
 "cells": [
  {
   "cell_type": "code",
   "execution_count": 4,
   "metadata": {
    "collapsed": true
   },
   "outputs": [],
   "source": [
    "%matplotlib inline\n",
    "import numpy as np\n",
    "import matplotlib.pyplot as plt\n",
    "import seaborn as sns\n",
    "import pandas as pd\n",
    "\n",
    "from itertools import product\n",
    "from multiprocessing import Pool"
   ]
  },
  {
   "cell_type": "code",
   "execution_count": 2,
   "metadata": {
    "collapsed": true,
    "scrolled": false
   },
   "outputs": [],
   "source": [
    "def is_in_numpy_array(elem, array):\n",
    "    \"\"\"Checks whether elem is identical to any row in array.\"\"\"\n",
    "    return np.any(np.equal(elem, array).all(axis=1))\n",
    "\n",
    "side_length = 100\n",
    "num_lines = 10 # called L in project description\n",
    "\n",
    "# All possible directions\n",
    "directions_1d = np.array([1,0,0, -1,0,0]).reshape(-1,3)\n",
    "\n",
    "directions_3d = [[0,0,1], [0,1,0], [1,0,0], [0,0,-1], [0,-1,0], [-1, 0, 0]]\n",
    "directions_3d = np.array([np.array(d) for d in directions_3d])\n",
    "\n",
    "# Detachement direction consists of all 3d movements that are not 1d-movements\n",
    "directions_3d_detach = [d for d in directions_3d if not is_in_numpy_array(d, directions_1d)]\n",
    "directions_3d_detach = np.array(directions_3d_detach)\n",
    "\n",
    "def choose(array):\n",
    "    \"\"\"Choose a random element from an array.\"\"\"\n",
    "    # np.random.choice doesn't work with 2d-array :(\n",
    "    idx = np.random.randint(0, len(array))\n",
    "    return array[idx]\n",
    "\n",
    "def number_of_sliding_steps(avg_sliding_len=10):\n",
    "    \"\"\"Returns number of sliding steps drawn from a neg. bin. distr.\n",
    "    See also:\n",
    "    https://stackoverflow.com/questions/40846992/alternative-parametrization-of-the-negative-binomial-in-scipy\n",
    "    \"\"\"\n",
    "    if avg_sliding_len == 0:\n",
    "        return 0\n",
    "    v = avg_sliding_len + avg_sliding_len**2\n",
    "    p = 1 - (v - avg_sliding_len)/v\n",
    "    return np.random.negative_binomial(1,p)"
   ]
  },
  {
   "cell_type": "code",
   "execution_count": 3,
   "metadata": {
    "collapsed": true,
    "scrolled": false
   },
   "outputs": [],
   "source": [
    "def simulate(args):\n",
    "    avg_sliding_len, num_lines = args\n",
    "    \n",
    "    # Create lines parallel to x-axis\n",
    "    lines_y = np.random.choice(side_length, size=num_lines, replace=False)\n",
    "    lines_z = np.random.choice(side_length, size=num_lines, replace=False)\n",
    "\n",
    "    # Create targets along line\n",
    "    target_x = np.random.choice(side_length, size=num_lines, replace=False)\n",
    "    targets = np.vstack((target_x, lines_y, lines_z)).T\n",
    "\n",
    "    position = np.random.randint(0, side_length, 3)\n",
    "    #print(f\"Initial position = {position}\")\n",
    "    iterations_3d = 0\n",
    "    iterations_1d = 0\n",
    "    attach_counter = 0\n",
    "\n",
    "    remaining_sliding_its = 0\n",
    "    is_sliding = False\n",
    "    \n",
    "    while not is_in_numpy_array(position, targets):\n",
    "        is_on_line = np.any((position[1] == lines_y) & (position[2] == lines_z))\n",
    "        if is_on_line and not is_sliding:\n",
    "            # Attach to line!\n",
    "            remaining_sliding_its = number_of_sliding_steps(avg_sliding_len=avg_sliding_len)\n",
    "            is_sliding = True\n",
    "            attach_counter += 1\n",
    "            #print(str(iterations_3d + iterations_1d) + f\" Sliding for {remaining_sliding_its}\")\n",
    "        if remaining_sliding_its > 0:\n",
    "            assert is_on_line\n",
    "            # Currently sliding, 1d brownian motion\n",
    "            iterations_1d += 1\n",
    "            remaining_sliding_its -= 1\n",
    "            direction = choose(directions_1d)\n",
    "        else:\n",
    "            # Not sliding, 3d brownian motion\n",
    "            iterations_3d += 1\n",
    "            if is_sliding:\n",
    "                # Just detached.\n",
    "                assert remaining_sliding_its <= 0\n",
    "                direction = choose(directions_3d_detach)\n",
    "                is_sliding = False\n",
    "                #print(\"Detached!\")\n",
    "            else:            \n",
    "                direction = choose(directions_3d)\n",
    "\n",
    "        position += direction\n",
    "        position = np.mod(position, np.array([side_length, side_length, side_length]))\n",
    "\n",
    "    return avg_sliding_len, num_lines, iterations_3d, iterations_1d#, total_cost, attach_counter"
   ]
  },
  {
   "cell_type": "code",
   "execution_count": null,
   "metadata": {
    "collapsed": true,
    "scrolled": false
   },
   "outputs": [],
   "source": []
  },
  {
   "cell_type": "code",
   "execution_count": 4,
   "metadata": {
    "scrolled": false
   },
   "outputs": [
    {
     "name": "stdout",
     "output_type": "stream",
     "text": [
      "Running 24000 experiments\n",
      "Done.\n",
      "CPU times: user 3.71 s, sys: 779 ms, total: 4.49 s\n",
      "Wall time: 1h 18min 51s\n"
     ]
    }
   ],
   "source": [
    "%%time\n",
    "sliding_len_grid = [10, 30, 50, 100, 200, 300]\n",
    "num_lines_grid = [1, 10, 30, 100]\n",
    "\n",
    "n_it = 1000\n",
    "results = []\n",
    "\n",
    "# Multithreading!\n",
    "pool = Pool()\n",
    "\n",
    "parameters = list(product(sliding_len_grid, num_lines_grid))*n_it\n",
    "print(f\"Running {len(parameters)} experiments\")\n",
    "results = pool.map(simulate, parameters)\n",
    "\n",
    "print(\"Done.\")"
   ]
  },
  {
   "cell_type": "code",
   "execution_count": 95,
   "metadata": {
    "collapsed": true
   },
   "outputs": [],
   "source": []
  },
  {
   "cell_type": "code",
   "execution_count": 21,
   "metadata": {},
   "outputs": [
    {
     "name": "stdout",
     "output_type": "stream",
     "text": [
      "Saving CSV\n"
     ]
    }
   ],
   "source": [
    "\n",
    "print(\"Saving CSV\")\n",
    "df = pd.DataFrame(results)\n",
    "df.columns = ['avg_sliding', 'num_lines', 'it_1d', 'it_3d']\n",
    "weighting_factor = 0.0\n",
    "df['total_cost'] = weighting_factor * df['it_1d'] + df['it_3d']\n",
    "#df.to_csv(\"results.csv\")\n"
   ]
  },
  {
   "cell_type": "code",
   "execution_count": 19,
   "metadata": {},
   "outputs": [
    {
     "data": {
      "image/png": "[encoded data removed]",
      "text/plain": [
       "<matplotlib.figure.Figure at 0x7ff57c1f16d8>"
      ]
     },
     "metadata": {},
     "output_type": "display_data"
    }
   ],
   "source": [
    "df = pd.read_csv('../results.csv')\n",
    "weighting_factor = 0.1\n",
    "df['totalCost'] = weighting_factor * df['iterations1D'] + df['iterations3D']\n",
    "fig, ax = plt.subplots(1,1, figsize=(10,10))\n",
    "sns.boxplot(x='numLines', y='totalCost', hue='avgSlidingLen', data=df, ax=ax)\n",
    "ax.set_yscale('log')\n",
    "fig.savefig('weight_0_1.jpg', bbox_inches='tight', transparent=True)"
   ]
  },
  {
   "cell_type": "code",
   "execution_count": 15,
   "metadata": {},
   "outputs": [
    {
     "data": {
      "text/html": [
       "<div>\n",
       "<style>\n",
       "    .dataframe thead tr:only-child th {\n",
       "        text-align: right;\n",
       "    }\n",
       "\n",
       "    .dataframe thead th {\n",
       "        text-align: left;\n",
       "    }\n",
       "\n",
       "    .dataframe tbody tr th {\n",
       "        vertical-align: top;\n",
       "    }\n",
       "</style>\n",
       "<table border=\"1\" class=\"dataframe\">\n",
       "  <thead>\n",
       "    <tr style=\"text-align: right;\">\n",
       "      <th></th>\n",
       "      <th>avgSlidingLen</th>\n",
       "      <th>numLines</th>\n",
       "      <th>iterations1D</th>\n",
       "      <th>iterations3D</th>\n",
       "    </tr>\n",
       "  </thead>\n",
       "  <tbody>\n",
       "    <tr>\n",
       "      <th>count</th>\n",
       "      <td>840.000000</td>\n",
       "      <td>840.000000</td>\n",
       "      <td>8.400000e+02</td>\n",
       "      <td>8.400000e+02</td>\n",
       "    </tr>\n",
       "    <tr>\n",
       "      <th>mean</th>\n",
       "      <td>99.285714</td>\n",
       "      <td>46.666667</td>\n",
       "      <td>1.315597e+05</td>\n",
       "      <td>5.725591e+05</td>\n",
       "    </tr>\n",
       "    <tr>\n",
       "      <th>std</th>\n",
       "      <td>103.240531</td>\n",
       "      <td>38.609111</td>\n",
       "      <td>3.692786e+05</td>\n",
       "      <td>1.053437e+06</td>\n",
       "    </tr>\n",
       "    <tr>\n",
       "      <th>min</th>\n",
       "      <td>5.000000</td>\n",
       "      <td>10.000000</td>\n",
       "      <td>0.000000e+00</td>\n",
       "      <td>0.000000e+00</td>\n",
       "    </tr>\n",
       "    <tr>\n",
       "      <th>25%</th>\n",
       "      <td>10.000000</td>\n",
       "      <td>10.000000</td>\n",
       "      <td>3.711750e+03</td>\n",
       "      <td>5.799700e+04</td>\n",
       "    </tr>\n",
       "    <tr>\n",
       "      <th>50%</th>\n",
       "      <td>50.000000</td>\n",
       "      <td>30.000000</td>\n",
       "      <td>1.975450e+04</td>\n",
       "      <td>2.174985e+05</td>\n",
       "    </tr>\n",
       "    <tr>\n",
       "      <th>75%</th>\n",
       "      <td>200.000000</td>\n",
       "      <td>100.000000</td>\n",
       "      <td>9.157800e+04</td>\n",
       "      <td>6.376488e+05</td>\n",
       "    </tr>\n",
       "    <tr>\n",
       "      <th>max</th>\n",
       "      <td>300.000000</td>\n",
       "      <td>100.000000</td>\n",
       "      <td>5.136451e+06</td>\n",
       "      <td>1.235070e+07</td>\n",
       "    </tr>\n",
       "  </tbody>\n",
       "</table>\n",
       "</div>"
      ],
      "text/plain": [
       "       avgSlidingLen    numLines  iterations1D  iterations3D\n",
       "count     840.000000  840.000000  8.400000e+02  8.400000e+02\n",
       "mean       99.285714   46.666667  1.315597e+05  5.725591e+05\n",
       "std       103.240531   38.609111  3.692786e+05  1.053437e+06\n",
       "min         5.000000   10.000000  0.000000e+00  0.000000e+00\n",
       "25%        10.000000   10.000000  3.711750e+03  5.799700e+04\n",
       "50%        50.000000   30.000000  1.975450e+04  2.174985e+05\n",
       "75%       200.000000  100.000000  9.157800e+04  6.376488e+05\n",
       "max       300.000000  100.000000  5.136451e+06  1.235070e+07"
      ]
     },
     "execution_count": 15,
     "metadata": {},
     "output_type": "execute_result"
    }
   ],
   "source": [
    "df.describe()"
   ]
  },
  {
   "cell_type": "code",
   "execution_count": 16,
   "metadata": {
    "scrolled": false
   },
   "outputs": [
    {
     "data": {
      "text/html": [
       "<div>\n",
       "<style>\n",
       "    .dataframe thead tr:only-child th {\n",
       "        text-align: right;\n",
       "    }\n",
       "\n",
       "    .dataframe thead th {\n",
       "        text-align: left;\n",
       "    }\n",
       "\n",
       "    .dataframe tbody tr th {\n",
       "        vertical-align: top;\n",
       "    }\n",
       "</style>\n",
       "<table border=\"1\" class=\"dataframe\">\n",
       "  <thead>\n",
       "    <tr style=\"text-align: right;\">\n",
       "      <th></th>\n",
       "      <th>avgSlidingLen</th>\n",
       "      <th>numLines</th>\n",
       "      <th>iterations1D</th>\n",
       "      <th>iterations3D</th>\n",
       "    </tr>\n",
       "  </thead>\n",
       "  <tbody>\n",
       "    <tr>\n",
       "      <th>0</th>\n",
       "      <td>5</td>\n",
       "      <td>10</td>\n",
       "      <td>572</td>\n",
       "      <td>138690</td>\n",
       "    </tr>\n",
       "    <tr>\n",
       "      <th>1</th>\n",
       "      <td>5</td>\n",
       "      <td>10</td>\n",
       "      <td>15501</td>\n",
       "      <td>1254473</td>\n",
       "    </tr>\n",
       "    <tr>\n",
       "      <th>2</th>\n",
       "      <td>5</td>\n",
       "      <td>10</td>\n",
       "      <td>2443</td>\n",
       "      <td>352626</td>\n",
       "    </tr>\n",
       "    <tr>\n",
       "      <th>3</th>\n",
       "      <td>5</td>\n",
       "      <td>10</td>\n",
       "      <td>15087</td>\n",
       "      <td>1198421</td>\n",
       "    </tr>\n",
       "    <tr>\n",
       "      <th>4</th>\n",
       "      <td>5</td>\n",
       "      <td>10</td>\n",
       "      <td>38741</td>\n",
       "      <td>4086916</td>\n",
       "    </tr>\n",
       "  </tbody>\n",
       "</table>\n",
       "</div>"
      ],
      "text/plain": [
       "   avgSlidingLen  numLines  iterations1D  iterations3D\n",
       "0              5        10           572        138690\n",
       "1              5        10         15501       1254473\n",
       "2              5        10          2443        352626\n",
       "3              5        10         15087       1198421\n",
       "4              5        10         38741       4086916"
      ]
     },
     "execution_count": 16,
     "metadata": {},
     "output_type": "execute_result"
    }
   ],
   "source": [
    "df.head(5)"
   ]
  },
  {
   "cell_type": "code",
   "execution_count": null,
   "metadata": {
    "collapsed": true
   },
   "outputs": [],
   "source": []
  },
  {
   "cell_type": "code",
   "execution_count": 125,
   "metadata": {
    "collapsed": true
   },
   "outputs": [],
   "source": []
  },
  {
   "cell_type": "code",
   "execution_count": 131,
   "metadata": {
    "collapsed": true
   },
   "outputs": [],
   "source": []
  },
  {
   "cell_type": "code",
   "execution_count": null,
   "metadata": {
    "collapsed": true
   },
   "outputs": [],
   "source": []
  },
  {
   "cell_type": "code",
   "execution_count": null,
   "metadata": {
    "collapsed": true
   },
   "outputs": [],
   "source": []
  },
  {
   "cell_type": "code",
   "execution_count": null,
   "metadata": {
    "collapsed": true
   },
   "outputs": [],
   "source": []
  }
 ],
 "metadata": {
  "kernelspec": {
   "display_name": "Python 3",
   "language": "python",
   "name": "python3"
  },
  "language_info": {
   "codemirror_mode": {
    "name": "ipython",
    "version": 3
   },
   "file_extension": ".py",
   "mimetype": "text/x-python",
   "name": "python",
   "nbconvert_exporter": "python",
   "pygments_lexer": "ipython3",
   "version": "3.6.1"
  }
 },
 "nbformat": 4,
 "nbformat_minor": 2
}
