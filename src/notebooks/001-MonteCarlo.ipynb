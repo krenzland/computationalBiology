{
 "cells": [
  {
   "cell_type": "code",
   "execution_count": 1,
   "metadata": {
    "collapsed": true
   },
   "outputs": [],
   "source": [
    "%matplotlib inline\n",
    "import numpy as np\n",
    "import matplotlib.pyplot as plt\n",
    "import seaborn as sns"
   ]
  },
  {
   "cell_type": "code",
   "execution_count": 2,
   "metadata": {
    "collapsed": true
   },
   "outputs": [],
   "source": [
    "def is_in_numpy_array(elem, array):\n",
    "    \"\"\"Checks whether elem is identical to any row in array.\"\"\"\n",
    "    return np.any(np.equal(elem, array).all(axis=1))\n",
    "\n",
    "side_length = 100\n",
    "num_lines = 10 # called L in project description\n",
    "\n",
    "# All possible directions\n",
    "directions_1d = np.array([1,0,0, -1,0,0]).reshape(-1,3)\n",
    "\n",
    "directions_3d = [[0,0,1], [0,1,0], [1,0,0], [0,0,-1], [0,-1,0], [-1, 0, 0]]\n",
    "directions_3d = np.array([np.array(d) for d in directions_3d])\n",
    "\n",
    "# Detachement direction consists of all 3d movements that are not 1d-movements\n",
    "directions_3d_detach = [d for d in directions_3d if not is_in_numpy_array(d, directions_1d)]\n",
    "directions_3d_detach = np.array(directions_3d_detach)\n",
    "\n",
    "def choose(array):\n",
    "    \"\"\"Choose a random element from an array.\"\"\"\n",
    "    # np.random.choice doesn't work with 2d-array :(\n",
    "    idx = np.random.randint(0, len(array))\n",
    "    return array[idx]\n",
    "\n",
    "# Create lines parallel to x-axis\n",
    "lines_y = np.random.choice(side_length, size=num_lines, replace=False)\n",
    "lines_z = np.random.choice(side_length, size=num_lines, replace=False)\n",
    "\n",
    "# Create targets along line\n",
    "target_x = np.random.choice(side_length, size=num_lines, replace=False)\n",
    "targets = np.vstack((target_x, lines_y, lines_z)).T\n",
    "\n",
    "def number_of_sliding_steps(avg_sliding_len=10):\n",
    "    \"\"\"Returns number of sliding steps drawn from a neg. bin. distr.\n",
    "    See also:\n",
    "    https://stackoverflow.com/questions/40846992/alternative-parametrization-of-the-negative-binomial-in-scipy\n",
    "    \"\"\"\n",
    "    v = avg_sliding_len + avg_sliding_len**2\n",
    "    p = 1 - (v - avg_sliding_len)/v\n",
    "    return np.random.negative_binomial(1,p)"
   ]
  },
  {
   "cell_type": "code",
   "execution_count": 3,
   "metadata": {
    "scrolled": false
   },
   "outputs": [
    {
     "name": "stdout",
     "output_type": "stream",
     "text": [
      "Initial position = [32 30 58]\n",
      "7614 Sliding for 56\n",
      "Detached!\n",
      "7735 Sliding for 16\n",
      "Detached!\n",
      "7753 Sliding for 12\n",
      "Detached!\n",
      "7799 Sliding for 59\n",
      "Detached!\n",
      "9460 Sliding for 2\n",
      "Detached!\n",
      "9464 Sliding for 1\n",
      "Detached!\n",
      "9467 Sliding for 0\n",
      "Detached!\n",
      "9469 Sliding for 58\n",
      "Detached!\n",
      "11537 Sliding for 19\n",
      "Detached!\n",
      "11958 Sliding for 27\n",
      "Detached!\n",
      "13441 Sliding for 86\n"
     ]
    },
    {
     "data": {
      "text/plain": [
       "(13191, 325, 16441, 11)"
      ]
     },
     "execution_count": 3,
     "metadata": {},
     "output_type": "execute_result"
    }
   ],
   "source": [
    "avg_sliding_len = 50\n",
    "cost_ratio = 10 # how many times more expensive is 1d-diffusion per step?\n",
    "\n",
    "position = np.random.randint(0, side_length, 3)\n",
    "print(f\"Initial position = {position}\")\n",
    "iterations_3d = 0\n",
    "iterations_1d = 0\n",
    "attach_counter = 0\n",
    "\n",
    "remaining_sliding_its = 0\n",
    "is_sliding = False\n",
    "\n",
    "while not is_in_numpy_array(position, targets):\n",
    "    is_on_line = np.any((position[1] == lines_y) & (position[2] == lines_z))\n",
    "    if is_on_line and not is_sliding:\n",
    "        # Attach to line!\n",
    "        remaining_sliding_its = number_of_sliding_steps(avg_sliding_len=avg_sliding_len)\n",
    "        is_sliding = True\n",
    "        attach_counter += 1\n",
    "        print(str(iterations_3d + iterations_1d) + f\" Sliding for {remaining_sliding_its}\")\n",
    "    if remaining_sliding_its > 0:\n",
    "        assert is_on_line\n",
    "        # Currently sliding, 1d brownian motion\n",
    "        iterations_1d += 1\n",
    "        remaining_sliding_its -= 1\n",
    "        direction = choose(directions_1d)\n",
    "    else:\n",
    "        # Not sliding, 3d brownian motion\n",
    "        iterations_3d += 1\n",
    "        if is_sliding:\n",
    "            # Just detached.\n",
    "            assert remaining_sliding_its <= 0\n",
    "            direction = choose(directions_3d_detach)\n",
    "            is_sliding = False\n",
    "            print(\"Detached!\")\n",
    "        else:            \n",
    "            direction = choose(directions_3d)\n",
    "        \n",
    "    position += direction\n",
    "    position = np.mod(position, np.array([side_length, side_length, side_length]))\n",
    "    \n",
    "\n",
    "total_cost = iterations_3d + cost_ratio * iterations_1d\n",
    "    \n",
    "iterations_3d, iterations_1d, total_cost, attach_counter"
   ]
  },
  {
   "cell_type": "code",
   "execution_count": null,
   "metadata": {
    "collapsed": true
   },
   "outputs": [],
   "source": []
  }
 ],
 "metadata": {
  "kernelspec": {
   "display_name": "Python 3",
   "language": "python",
   "name": "python3"
  },
  "language_info": {
   "codemirror_mode": {
    "name": "ipython",
    "version": 3
   },
   "file_extension": ".py",
   "mimetype": "text/x-python",
   "name": "python",
   "nbconvert_exporter": "python",
   "pygments_lexer": "ipython3",
   "version": "3.6.1"
  }
 },
 "nbformat": 4,
 "nbformat_minor": 2
}
